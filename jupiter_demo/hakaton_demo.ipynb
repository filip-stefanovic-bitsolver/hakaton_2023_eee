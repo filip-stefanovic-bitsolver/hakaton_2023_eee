{
 "cells": [
  {
   "cell_type": "code",
   "execution_count": 1,
   "id": "3e7541b5",
   "metadata": {},
   "outputs": [
    {
     "data": {
      "application/javascript": "\ntry {\nrequire(['notebook/js/codecell'], function(codecell) {\n  codecell.CodeCell.options_default.highlight_modes[\n      'magic_text/x-csrc'] = {'reg':[/^%%microblaze/]};\n  Jupyter.notebook.events.one('kernel_ready.Kernel', function(){\n      Jupyter.notebook.get_cells().map(function(cell){\n          if (cell.cell_type == 'code'){ cell.auto_highlight(); } }) ;\n  });\n});\n} catch (e) {};\n"
     },
     "metadata": {},
     "output_type": "display_data"
    },
    {
     "data": {
      "application/javascript": "\ntry {\nrequire(['notebook/js/codecell'], function(codecell) {\n  codecell.CodeCell.options_default.highlight_modes[\n      'magic_text/x-csrc'] = {'reg':[/^%%pybind11/]};\n  Jupyter.notebook.events.one('kernel_ready.Kernel', function(){\n      Jupyter.notebook.get_cells().map(function(cell){\n          if (cell.cell_type == 'code'){ cell.auto_highlight(); } }) ;\n  });\n});\n} catch (e) {};\n"
     },
     "metadata": {},
     "output_type": "display_data"
    }
   ],
   "source": [
    "from pynq import Overlay, allocate\n",
    "ol = Overlay(\"/home/xilinx/jupyter_notebooks/hakaton/accelerator_top.bit\")"
   ]
  },
  {
   "cell_type": "code",
   "execution_count": 2,
   "id": "df244f98",
   "metadata": {},
   "outputs": [],
   "source": [
    "import matplotlib.pyplot as plt\n",
    "import numpy as np\n",
    "from scipy import ndimage\n",
    "import time\n",
    "from IPython.display import display\n",
    "from PIL import Image"
   ]
  },
  {
   "cell_type": "code",
   "execution_count": 3,
   "id": "25c974b8",
   "metadata": {},
   "outputs": [],
   "source": [
    "dma0 = ol.axi_dma_0\n",
    "dma1 = ol.axi_dma_1"
   ]
  },
  {
   "cell_type": "code",
   "execution_count": 4,
   "id": "d2dccf52",
   "metadata": {},
   "outputs": [],
   "source": [
    "IP_BASE_ADDRESS = ol.ip_dict['example_design_0']['phys_addr'] \n",
    "ADDRESS_RANGE = ol.ip_dict['example_design_0']['addr_range'] \n",
    "\n",
    "from pynq import MMIO\n",
    "mmio = MMIO(IP_BASE_ADDRESS, ADDRESS_RANGE)"
   ]
  },
  {
   "cell_type": "code",
   "execution_count": null,
   "id": "dc41e367",
   "metadata": {},
   "outputs": [],
   "source": [
    "## mmio.write(4,12) # write 12 @ address offset 4\n",
    "\n",
    "#check reset values are visible in memory-mapped registers\n",
    "result1 = mmio.read(0) # read at offset 0\n",
    "result2 = mmio.read(4) # read at offset 4\n",
    "result3 = mmio.read(8) # ...\n",
    "result4 = mmio.read(12)\n",
    "print(result1)\n",
    "print(result2)\n",
    "print(result3)\n",
    "print(result4)\n"
   ]
  },
  {
   "cell_type": "code",
   "execution_count": 6,
   "id": "08cd4403",
   "metadata": {},
   "outputs": [],
   "source": [
    "def rgb2gray(rgb):\n",
    "  r, g, b = rgb[:,:,0], rgb[:,:,1], rgb[:,:,2]\n",
    "  gray = 0.2989 * r + 0.5870 * g + 0.1140 * b\n",
    "  return gray\n",
    "\n",
    "#Load input image from located path and convert it to grayscale\n",
    "def load_image(filepath):\n",
    "  img = plt.imread(filepath)\n",
    "  if (img.dtype == float) and (max(img.flatten())<=1):\n",
    "      img = rgb2gray(img)\n",
    "      img = np.clip(img, 0, 1) * 255\n",
    "  else:\n",
    "      img = rgb2gray(img)\n",
    "  img = img.astype(np.uint8)\n",
    "  return img"
   ]
  },
  {
   "cell_type": "code",
   "execution_count": null,
   "id": "54a3116e",
   "metadata": {},
   "outputs": [],
   "source": [
    "image = load_image('/home/xilinx/jupyter_notebooks/hakaton/lena_gray.gif')\n",
    "for i in range(20):\n",
    "  print (hex(image[i,1]))"
   ]
  },
  {
   "cell_type": "code",
   "execution_count": 8,
   "id": "cb846324",
   "metadata": {},
   "outputs": [],
   "source": [
    "input_buffer   = allocate(shape=image.shape, dtype=np.uint8)\n",
    "output_buffer1 = allocate(shape=image.shape, dtype=np.uint8)\n",
    "output_buffer2 = allocate(shape=image.shape, dtype=np.uint16)"
   ]
  },
  {
   "cell_type": "code",
   "execution_count": 9,
   "id": "cbefedb6",
   "metadata": {},
   "outputs": [],
   "source": [
    "input_buffer[:] = image"
   ]
  },
  {
   "cell_type": "code",
   "execution_count": 17,
   "id": "a8783f0f",
   "metadata": {},
   "outputs": [],
   "source": [
    "t1 = time.perf_counter()\n",
    "\n",
    "dma0.sendchannel.transfer(input_buffer)\n",
    "dma0.recvchannel.transfer(output_buffer1)\n",
    "dma1.recvchannel.transfer(output_buffer2)\n",
    "\n",
    "dma0.sendchannel.wait()\n",
    "dma0.recvchannel.wait()\n",
    "dma1.recvchannel.wait()\n",
    "\n",
    "t2 = time.perf_counter()"
   ]
  },
  {
   "cell_type": "code",
   "execution_count": null,
   "id": "83afe650",
   "metadata": {},
   "outputs": [],
   "source": [
    "\n",
    "print(\"Time taken from starting DMA Tx to completing DMA Rx is \"+str(t2-t1)+\" seconds\")"
   ]
  },
  {
   "cell_type": "code",
   "execution_count": null,
   "id": "64511ab6",
   "metadata": {},
   "outputs": [],
   "source": [
    "for i in range(20):\n",
    "  print (hex(output_buffer1[i,1]))"
   ]
  },
  {
   "cell_type": "code",
   "execution_count": null,
   "id": "75637b62",
   "metadata": {},
   "outputs": [],
   "source": [
    "for i in range(20):\n",
    "  print (hex(output_buffer2[i,1]))"
   ]
  },
  {
   "cell_type": "code",
   "execution_count": null,
   "id": "2d1fe9c1",
   "metadata": {},
   "outputs": [],
   "source": [
    "display(Image.fromarray(output_buffer1))"
   ]
  },
  {
   "cell_type": "code",
   "execution_count": null,
   "id": "cc08465e",
   "metadata": {},
   "outputs": [],
   "source": [
    "display(Image.fromarray(input_buffer))"
   ]
  },
  {
   "cell_type": "code",
   "execution_count": 15,
   "id": "1fceb443",
   "metadata": {},
   "outputs": [],
   "source": [
    "mmio.write(4,0) # example of writing into mm register that will cause example_design to not shift pixels on 8-bit stream"
   ]
  }
 ],
 "metadata": {
  "kernelspec": {
   "display_name": "Python 3 (ipykernel)",
   "language": "python",
   "name": "python3"
  },
  "language_info": {
   "codemirror_mode": {
    "name": "ipython",
    "version": 3
   },
   "file_extension": ".py",
   "mimetype": "text/x-python",
   "name": "python",
   "nbconvert_exporter": "python",
   "pygments_lexer": "ipython3",
   "version": "3.10.4"
  }
 },
 "nbformat": 4,
 "nbformat_minor": 5
}
